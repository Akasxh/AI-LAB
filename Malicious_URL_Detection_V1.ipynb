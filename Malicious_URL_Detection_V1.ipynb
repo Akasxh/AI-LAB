{
  "metadata": {
    "kernelspec": {
      "language": "python",
      "display_name": "Python 3",
      "name": "python3"
    },
    "language_info": {
      "name": "python",
      "version": "3.8.16",
      "mimetype": "text/x-python",
      "codemirror_mode": {
        "name": "ipython",
        "version": 3
      },
      "pygments_lexer": "ipython3",
      "nbconvert_exporter": "python",
      "file_extension": ".py"
    },
    "kaggle": {
      "accelerator": "tpu1vmV38",
      "dataSources": [
        {
          "sourceId": 2456026,
          "sourceType": "datasetVersion",
          "datasetId": 1486586
        }
      ],
      "dockerImageVersionId": 30499,
      "isInternetEnabled": true,
      "language": "python",
      "sourceType": "notebook",
      "isGpuEnabled": false
    },
    "colab": {
      "name": "Malicious URL Detection 🛡️",
      "provenance": [],
      "include_colab_link": true
    }
  },
  "nbformat_minor": 0,
  "nbformat": 4,
  "cells": [
    {
      "cell_type": "markdown",
      "metadata": {
        "id": "view-in-github",
        "colab_type": "text"
      },
      "source": [
        "<a href=\"https://colab.research.google.com/github/Akasxh/AI-LAB/blob/main/Malicious_URL_Detection_V1.ipynb\" target=\"_parent\"><img src=\"https://colab.research.google.com/assets/colab-badge.svg\" alt=\"Open In Colab\"/></a>"
      ]
    },
    {
      "cell_type": "code",
      "source": [
        "!pip3 install -U -q scikit-learn joblib seaborn colorama tld plotly whois wordcloud gensim nltk tldextract hmmlearn xgboost lightgbm catboost"
      ],
      "metadata": {
        "trusted": true,
        "id": "-aJkHYO-ocaq"
      },
      "outputs": [],
      "execution_count": null
    },
    {
      "cell_type": "code",
      "source": [
        "import re\n",
        "import string\n",
        "import logging\n",
        "\n",
        "import numpy as np\n",
        "import pandas as pd\n",
        "import seaborn as sns\n",
        "import matplotlib.pyplot as plt\n",
        "\n",
        "from urllib.parse import urlparse\n",
        "from sklearn.model_selection import train_test_split, cross_val_score, cross_val_predict\n",
        "from sklearn.metrics import accuracy_score, recall_score, precision_score, f1_score, classification_report, confusion_matrix\n",
        "from sklearn.tree import DecisionTreeClassifier\n",
        "from sklearn.ensemble import RandomForestClassifier, AdaBoostClassifier, ExtraTreesClassifier, GradientBoostingClassifier, BaggingClassifier\n",
        "from sklearn.neighbors import KNeighborsClassifier\n",
        "from sklearn.linear_model import SGDClassifier, LogisticRegression, RidgeClassifier, Perceptron\n",
        "from sklearn.naive_bayes import GaussianNB, MultinomialNB\n",
        "from sklearn.svm import SVC\n",
        "from sklearn.neural_network import MLPClassifier\n",
        "from sklearn.gaussian_process import GaussianProcessClassifier\n",
        "from sklearn.mixture import GaussianMixture\n",
        "from sklearn.cluster import KMeans\n",
        "from sklearn.pipeline import Pipeline\n",
        "from sklearn.discriminant_analysis import LinearDiscriminantAnalysis, QuadraticDiscriminantAnalysis\n",
        "from xgboost import XGBClassifier\n",
        "from lightgbm import LGBMClassifier\n",
        "from catboost import CatBoostClassifier\n",
        "\n",
        "from tldextract import extract as tld_extract\n",
        "from tld import get_tld, is_tld\n",
        "from tld.exceptions import TldDomainNotFound, TldBadUrl, TldIOError\n",
        "\n",
        "from colorama import Fore\n",
        "from datetime import datetime\n",
        "from plotly.subplots import make_subplots\n",
        "from plotly import graph_objects as go\n",
        "from wordcloud import WordCloud\n",
        "from gensim.models import Word2Vec\n",
        "import tldextract\n",
        "import hashlib\n",
        "import whois\n",
        "import warnings\n",
        "\n",
        "warnings.filterwarnings(\"ignore\")"
      ],
      "metadata": {
        "trusted": true,
        "id": "g4ThzCeVocaq"
      },
      "outputs": [],
      "execution_count": null
    },
    {
      "cell_type": "code",
      "source": [
        "urls_data = pd.read_csv('/kaggle/input/malicious-urls-dataset/malicious_phish.csv')\n",
        "urls_data.head()"
      ],
      "metadata": {
        "trusted": true,
        "id": "gVpEH81Pocar"
      },
      "outputs": [],
      "execution_count": null
    },
    {
      "cell_type": "markdown",
      "source": [
        "<div style=\"background-color:#dfe3ee; border-radius:2px; border:#000000 solid; padding: 15px; font-size:100%; text-align:center\">\n",
        "    <h2 align=\"center\" style=\"color:#000000;\"><b>DATA PREPROCESSING AND EDA</b></h2>\n",
        "</div>"
      ],
      "metadata": {
        "id": "82M6QGDSocar"
      }
    },
    {
      "cell_type": "code",
      "source": [
        "urls_data.info()"
      ],
      "metadata": {
        "trusted": true,
        "id": "bTg5uYlMocar"
      },
      "outputs": [],
      "execution_count": null
    },
    {
      "cell_type": "code",
      "source": [
        "urls_data.isnull().sum()"
      ],
      "metadata": {
        "trusted": true,
        "id": "_aDp2H27ocas"
      },
      "outputs": [],
      "execution_count": null
    },
    {
      "cell_type": "code",
      "source": [
        "count = urls_data['type'].value_counts()\n",
        "colors = [\n",
        "    '#FF6633', '#FFB399', '#FF33FF', '#FFFF99', '#00B3E6',\n",
        "    '#E6B333', '#3366E6', '#999966', '#99FF99', '#B34D4D'\n",
        "]\n",
        "fig = go.Figure(data=[go.Bar(x=count.index, y=count, marker=dict(color=colors))])\n",
        "fig.update_layout(\n",
        "    xaxis_title='Types',\n",
        "    yaxis_title='Count',\n",
        "    title='Count of Different Types of URLs',\n",
        "    plot_bgcolor='black',\n",
        "    paper_bgcolor='black',\n",
        "    font=dict(color='white')\n",
        ")\n",
        "fig.update_xaxes(tickfont=dict(color='white'))\n",
        "fig.update_yaxes(tickfont=dict(color='white'))\n",
        "fig.show()"
      ],
      "metadata": {
        "trusted": true,
        "id": "DKUOG44Hocas"
      },
      "outputs": [],
      "execution_count": null
    },
    {
      "cell_type": "code",
      "source": [
        "urls_data['url'] = urls_data['url'].replace('www.', '', regex=True)\n",
        "urls_data.head()"
      ],
      "metadata": {
        "trusted": true,
        "id": "s51hJQtsocas"
      },
      "outputs": [],
      "execution_count": null
    },
    {
      "cell_type": "code",
      "source": [
        "urls_data[\"type\"].value_counts()"
      ],
      "metadata": {
        "trusted": true,
        "id": "-RvAo3Lcocas"
      },
      "outputs": [],
      "execution_count": null
    },
    {
      "cell_type": "code",
      "source": [
        "urls_data[\"url_type\"] = urls_data[\"type\"].replace({\n",
        "    'benign':0,\n",
        "    'defacement':1,\n",
        "    'phishing':2,\n",
        "    'malware':3\n",
        "});"
      ],
      "metadata": {
        "trusted": true,
        "id": "isJ70Dgyocas"
      },
      "outputs": [],
      "execution_count": null
    },
    {
      "cell_type": "code",
      "source": [
        "urls_data.head()"
      ],
      "metadata": {
        "trusted": true,
        "id": "1UIGB7wsocas"
      },
      "outputs": [],
      "execution_count": null
    },
    {
      "cell_type": "code",
      "source": [
        "def get_url_length(url):\n",
        "    # Remove common prefixes\n",
        "    prefixes = ['http://', 'https://']\n",
        "    for prefix in prefixes:\n",
        "        if url.startswith(prefix):\n",
        "            url = url[len(prefix):]\n",
        "\n",
        "    # Remove 'www.' if present\n",
        "    url = url.replace('www.', '')\n",
        "\n",
        "    # Return the length of the remaining URL\n",
        "    return len(url)"
      ],
      "metadata": {
        "trusted": true,
        "id": "hG7TlAVDocat"
      },
      "outputs": [],
      "execution_count": null
    },
    {
      "cell_type": "code",
      "source": [
        "urls_data['url_len'] = urls_data['url'].apply(lambda x: get_url_length(str(x)))"
      ],
      "metadata": {
        "trusted": true,
        "id": "Cg3i8lDOocat"
      },
      "outputs": [],
      "execution_count": null
    },
    {
      "cell_type": "code",
      "source": [
        "urls_data.head()"
      ],
      "metadata": {
        "trusted": true,
        "id": "od54bNBLocat"
      },
      "outputs": [],
      "execution_count": null
    },
    {
      "cell_type": "code",
      "source": [
        "def extract_pri_domain(url):\n",
        "    try:\n",
        "        res = get_tld(url, as_object = True, fail_silently=False,fix_protocol=True)\n",
        "        pri_domain= res.parsed_url.netloc\n",
        "    except :\n",
        "        pri_domain= None\n",
        "    return pri_domain"
      ],
      "metadata": {
        "trusted": true,
        "id": "mvCj_Vqwocat"
      },
      "outputs": [],
      "execution_count": null
    },
    {
      "cell_type": "code",
      "source": [
        "urls_data['pri_domain'] = urls_data['url'].apply(lambda x: extract_pri_domain(x))"
      ],
      "metadata": {
        "trusted": true,
        "id": "MHMduDnZocat"
      },
      "outputs": [],
      "execution_count": null
    },
    {
      "cell_type": "code",
      "source": [
        "urls_data.head()"
      ],
      "metadata": {
        "trusted": true,
        "id": "uyARBjpAocat"
      },
      "outputs": [],
      "execution_count": null
    },
    {
      "cell_type": "code",
      "source": [
        "def count_letters(url):\n",
        "    num_letters = sum(char.isalpha() for char in url)\n",
        "    return num_letters\n",
        "\n",
        "def count_digits(url):\n",
        "    num_digits = sum(char.isdigit() for char in url)\n",
        "    return num_digits\n",
        "\n",
        "def count_special_chars(url):\n",
        "    special_chars = set(string.punctuation)\n",
        "    num_special_chars = sum(char in special_chars for char in url)\n",
        "    return num_special_chars"
      ],
      "metadata": {
        "trusted": true,
        "id": "apQoLLPyocat"
      },
      "outputs": [],
      "execution_count": null
    },
    {
      "cell_type": "code",
      "source": [
        "urls_data['letters_count']        = urls_data['url'].apply(lambda x: count_letters(x))\n",
        "urls_data['digits_count']         = urls_data['url'].apply(lambda x: count_digits(x))\n",
        "urls_data['special_chars_count']  = urls_data['url'].apply(lambda x: count_special_chars(x))"
      ],
      "metadata": {
        "trusted": true,
        "id": "VuQJlztOocat"
      },
      "outputs": [],
      "execution_count": null
    },
    {
      "cell_type": "code",
      "source": [
        "urls_data.head()"
      ],
      "metadata": {
        "trusted": true,
        "id": "_bTM_kFXocau"
      },
      "outputs": [],
      "execution_count": null
    },
    {
      "cell_type": "code",
      "source": [
        "def has_shortening_service(url):\n",
        "    pattern = re.compile(r'https?://(?:www\\.)?(?:\\w+\\.)*(\\w+)\\.\\w+')\n",
        "    match = pattern.search(url)\n",
        "\n",
        "    if match:\n",
        "        domain = match.group(1)\n",
        "        common_shortening_services = ['bit', 'goo', 'tinyurl', 'ow', 't', 'is',\n",
        "                                      'cli', 'yfrog', 'migre', 'ff', 'url4', 'twit',\n",
        "                                      'su', 'snipurl', 'short', 'BudURL', 'ping',\n",
        "                                      'post', 'Just', 'bkite', 'snipr', 'fic',\n",
        "                                      'loopt', 'doiop', 'short', 'kl', 'wp',\n",
        "                                      'rubyurl', 'om', 'to', 'bit', 't', 'lnkd',\n",
        "                                      'db', 'qr', 'adf', 'goo', 'bitly', 'cur',\n",
        "                                      'tinyurl', 'ow', 'bit', 'ity', 'q', 'is',\n",
        "                                      'po', 'bc', 'twitthis', 'u', 'j', 'buzurl',\n",
        "                                      'cutt', 'u', 'yourls', 'x', 'prettylinkpro',\n",
        "                                      'scrnch', 'filoops', 'vzturl', 'qr', '1url',\n",
        "                                      'tweez', 'v', 'tr', 'link', 'zip']\n",
        "\n",
        "        if domain.lower() in common_shortening_services:\n",
        "            return 1\n",
        "    return 0"
      ],
      "metadata": {
        "trusted": true,
        "id": "WNh_MHwxocau"
      },
      "outputs": [],
      "execution_count": null
    },
    {
      "cell_type": "code",
      "source": [
        "urls_data['shortened']  = urls_data['url'].apply(lambda x: has_shortening_service(x))"
      ],
      "metadata": {
        "trusted": true,
        "id": "S9mDAWkkocau"
      },
      "outputs": [],
      "execution_count": null
    },
    {
      "cell_type": "code",
      "source": [
        "urls_data.head()"
      ],
      "metadata": {
        "trusted": true,
        "id": "dzoS1kwhocau"
      },
      "outputs": [],
      "execution_count": null
    },
    {
      "cell_type": "code",
      "source": [
        "def abnormal_url(url):\n",
        "    parsed_url = urlparse(url)\n",
        "    netloc = parsed_url.netloc\n",
        "    if netloc:\n",
        "        netloc = str(netloc)\n",
        "        match = re.search(netloc, url)\n",
        "        if match:\n",
        "            return 1\n",
        "    return 0"
      ],
      "metadata": {
        "trusted": true,
        "id": "J96TyEfqocau"
      },
      "outputs": [],
      "execution_count": null
    },
    {
      "cell_type": "code",
      "source": [
        "urls_data['abnormal_url']  = urls_data['url'].apply(lambda x: abnormal_url(x))"
      ],
      "metadata": {
        "trusted": true,
        "id": "e2SwPjrTocau"
      },
      "outputs": [],
      "execution_count": null
    },
    {
      "cell_type": "code",
      "source": [
        "urls_data.head()"
      ],
      "metadata": {
        "trusted": true,
        "id": "sVXgn51Yocau"
      },
      "outputs": [],
      "execution_count": null
    },
    {
      "cell_type": "code",
      "source": [
        "def secure_http(url):\n",
        "    return int(urlparse(url).scheme == 'https')"
      ],
      "metadata": {
        "trusted": true,
        "id": "Va-WBda1ocav"
      },
      "outputs": [],
      "execution_count": null
    },
    {
      "cell_type": "code",
      "source": [
        "urls_data['secure_http']  = urls_data['url'].apply(lambda x: secure_http(x))"
      ],
      "metadata": {
        "trusted": true,
        "id": "eIZ1FHK1ocav"
      },
      "outputs": [],
      "execution_count": null
    },
    {
      "cell_type": "code",
      "source": [
        "urls_data.head()"
      ],
      "metadata": {
        "trusted": true,
        "id": "b1pqAn7docav"
      },
      "outputs": [],
      "execution_count": null
    },
    {
      "cell_type": "code",
      "source": [
        "import ipaddress\n",
        "def have_ip_address(url):\n",
        "    try:\n",
        "        parsed_url = urlparse(url)\n",
        "        if parsed_url.hostname:\n",
        "            ip = ipaddress.ip_address(parsed_url.hostname)\n",
        "            return isinstance(ip, (ipaddress.IPv4Address, ipaddress.IPv6Address))\n",
        "    except ValueError:\n",
        "        pass  # Invalid hostname or IP address\n",
        "\n",
        "    return 0"
      ],
      "metadata": {
        "trusted": true,
        "id": "6nYs7EBsocav"
      },
      "outputs": [],
      "execution_count": null
    },
    {
      "cell_type": "code",
      "source": [
        "urls_data['have_ip']  = urls_data['url'].apply(lambda x: have_ip_address(x))"
      ],
      "metadata": {
        "trusted": true,
        "id": "28yBaG4Gocav"
      },
      "outputs": [],
      "execution_count": null
    },
    {
      "cell_type": "code",
      "source": [
        "urls_data.head()"
      ],
      "metadata": {
        "trusted": true,
        "id": "OWGag5Zcocav"
      },
      "outputs": [],
      "execution_count": null
    },
    {
      "cell_type": "code",
      "source": [
        "urls_data.isnull().sum()"
      ],
      "metadata": {
        "trusted": true,
        "id": "GFXV0Qfzocav"
      },
      "outputs": [],
      "execution_count": null
    },
    {
      "cell_type": "code",
      "source": [
        "urls_data.fillna(0,inplace=True)"
      ],
      "metadata": {
        "trusted": true,
        "id": "yObDV23cocav"
      },
      "outputs": [],
      "execution_count": null
    },
    {
      "cell_type": "code",
      "source": [
        "urls_data.isnull().sum()"
      ],
      "metadata": {
        "trusted": true,
        "id": "sGvO4Nnvocaw"
      },
      "outputs": [],
      "execution_count": null
    },
    {
      "cell_type": "code",
      "source": [
        "# Word Cloud\n",
        "wordcloud = WordCloud(width=800, height=400, background_color='white').generate(' '.join(urls_data['url']))\n",
        "plt.figure(figsize=(10, 6))\n",
        "plt.imshow(wordcloud, interpolation='bilinear')\n",
        "plt.axis('off')\n",
        "plt.title('Word Cloud of URLs')\n",
        "plt.show()"
      ],
      "metadata": {
        "trusted": true,
        "id": "K9dMOyzjocaz"
      },
      "outputs": [],
      "execution_count": null
    },
    {
      "cell_type": "code",
      "source": [
        "# Histogram\n",
        "fig = make_subplots(rows=1, cols=1)\n",
        "\n",
        "fig.add_trace(go.Histogram(x=urls_data['url_len'], nbinsx=100))\n",
        "\n",
        "fig.update_layout(\n",
        "    title='Distribution of URL Lengths',\n",
        "    xaxis_title='URL Length',\n",
        "    yaxis_title='Count',\n",
        "    template='plotly_dark',\n",
        "    font=dict(color='white')\n",
        ")\n",
        "\n",
        "fig.show()"
      ],
      "metadata": {
        "trusted": true,
        "id": "qz7iAK6Focaz"
      },
      "outputs": [],
      "execution_count": null
    },
    {
      "cell_type": "code",
      "source": [
        "# Bar chart for 'type' column\n",
        "type_counts = urls_data['type'].value_counts()\n",
        "fig = go.Figure(data=[go.Bar(x=type_counts.index, y=type_counts.values)])\n",
        "fig.update_layout(title='Frequency of URL Types',\n",
        "                  xaxis_title='URL Type',\n",
        "                  yaxis_title='Count',\n",
        "                  template='plotly_dark',\n",
        "                  font=dict(color='white'),\n",
        "                  showlegend=False)\n",
        "fig.show()"
      ],
      "metadata": {
        "trusted": true,
        "id": "gELgCl0Kocaz"
      },
      "outputs": [],
      "execution_count": null
    },
    {
      "cell_type": "code",
      "source": [
        "# Pie chart for 'url_type' column\n",
        "url_type_counts = urls_data['url_type'].value_counts()\n",
        "fig = go.Figure(data=[go.Pie(labels=url_type_counts.index, values=url_type_counts.values)])\n",
        "fig.update_layout(title='Distribution of URL Types',\n",
        "                  template='plotly_dark',\n",
        "                  font=dict(color='white'),\n",
        "                  showlegend=True)\n",
        "fig.show()"
      ],
      "metadata": {
        "trusted": true,
        "id": "Y3llsUuEocaz"
      },
      "outputs": [],
      "execution_count": null
    },
    {
      "cell_type": "code",
      "source": [
        "# Convert pri_domain values to strings and filter out None and int values\n",
        "filtered_domains = urls_data['pri_domain'].map(str).dropna()\n",
        "\n",
        "# Concatenate all pri_domain values into a single string\n",
        "text = ' '.join(filtered_domains)\n",
        "\n",
        "# Generate the WordCloud data\n",
        "wordcloud = WordCloud(background_color='black', colormap='viridis', width=800, height=400).generate(text)\n",
        "\n",
        "# Plot the WordCloud using matplotlib\n",
        "plt.figure(figsize=(10, 6))\n",
        "plt.imshow(wordcloud, interpolation='bilinear')\n",
        "plt.axis('off')\n",
        "plt.title('Word Cloud of Primary Domains', color='black')\n",
        "plt.show()"
      ],
      "metadata": {
        "trusted": true,
        "id": "x56Z3E_9ocaz"
      },
      "outputs": [],
      "execution_count": null
    },
    {
      "cell_type": "code",
      "source": [
        "counts = urls_data[['letters_count', 'digits_count', 'special_chars_count']].sum()\n",
        "\n",
        "fig = go.Figure(data=[\n",
        "    go.Bar(name='Letters', x=['Count'], y=[counts['letters_count']]),\n",
        "    go.Bar(name='Digits', x=['Count'], y=[counts['digits_count']]),\n",
        "    go.Bar(name='Special Characters', x=['Count'], y=[counts['special_chars_count']])\n",
        "])\n",
        "\n",
        "fig.update_layout(title='Counts of Letters, Digits, and Special Characters',\n",
        "                  xaxis_title='Type',\n",
        "                  yaxis_title='Count',\n",
        "                  barmode='group',\n",
        "                  template='plotly_dark',\n",
        "                  font=dict(color='white'))\n",
        "\n",
        "fig.show()"
      ],
      "metadata": {
        "trusted": true,
        "id": "IBK2MUV1oca0"
      },
      "outputs": [],
      "execution_count": null
    },
    {
      "cell_type": "code",
      "source": [
        "true_color = 'green'\n",
        "\n",
        "false_color = 'red'\n",
        "\n",
        "shortened_counts = urls_data['shortened'].value_counts()\n",
        "colors = [true_color if val else false_color for val in shortened_counts.index]\n",
        "fig_shortened = go.Figure(data=go.Bar(x=shortened_counts.index, y=shortened_counts, marker_color=colors))\n",
        "fig_shortened.update_layout(title='Counts of shortened',\n",
        "                            xaxis_title='Value',\n",
        "                            yaxis_title='Count',\n",
        "                            template='plotly_dark',\n",
        "                            font=dict(color='white'))\n",
        "fig_shortened.show()\n",
        "\n",
        "abnormal_url_counts = urls_data['abnormal_url'].value_counts()\n",
        "colors = [true_color if val else false_color for val in abnormal_url_counts.index]\n",
        "fig_abnormal_url = go.Figure(data=go.Bar(x=abnormal_url_counts.index, y=abnormal_url_counts, marker_color=colors))\n",
        "fig_abnormal_url.update_layout(title='Counts of abnormal_url',\n",
        "                               xaxis_title='Value',\n",
        "                               yaxis_title='Count',\n",
        "                               template='plotly_dark',\n",
        "                               font=dict(color='white'))\n",
        "fig_abnormal_url.show()\n",
        "\n",
        "secure_http_counts = urls_data['secure_http'].value_counts()\n",
        "colors = [true_color if val else false_color for val in secure_http_counts.index]\n",
        "fig_secure_http = go.Figure(data=go.Bar(x=secure_http_counts.index, y=secure_http_counts, marker_color=colors))\n",
        "fig_secure_http.update_layout(title='Counts of secure_http',\n",
        "                              xaxis_title='Value',\n",
        "                              yaxis_title='Count',\n",
        "                              template='plotly_dark',\n",
        "                              font=dict(color='white'))\n",
        "fig_secure_http.show()\n",
        "\n",
        "have_ip_counts = urls_data['have_ip'].value_counts()\n",
        "colors = [true_color if val else false_color for val in have_ip_counts.index]\n",
        "fig_have_ip = go.Figure(data=go.Bar(x=have_ip_counts.index, y=have_ip_counts, marker_color=colors))\n",
        "fig_have_ip.update_layout(title='Counts of have_ip',\n",
        "                          xaxis_title='Value',\n",
        "                          yaxis_title='Count',\n",
        "                          template='plotly_dark',\n",
        "                          font=dict(color='white'))\n",
        "fig_have_ip.show()"
      ],
      "metadata": {
        "trusted": true,
        "id": "_XOCWeVSoca0"
      },
      "outputs": [],
      "execution_count": null
    },
    {
      "cell_type": "code",
      "source": [
        "numeric_data = urls_data.select_dtypes(include='number')\n",
        "\n",
        "corr_matrix = numeric_data.corr()\n",
        "\n",
        "heatmap = go.Heatmap(\n",
        "    z=corr_matrix.values,\n",
        "    x=corr_matrix.columns,\n",
        "    y=corr_matrix.columns,\n",
        "    colorscale='Greys',\n",
        ")\n",
        "\n",
        "\n",
        "layout = go.Layout(\n",
        "    title='Correlation Heatmap (Numeric Values Only)',\n",
        "    xaxis=dict(title='Variables'),\n",
        "    yaxis=dict(title='Variables'),\n",
        "    plot_bgcolor='black',\n",
        "    paper_bgcolor='black',\n",
        "    font=dict(color='white')\n",
        ")\n",
        "\n",
        "\n",
        "fig = go.Figure(data=heatmap, layout=layout)\n",
        "\n",
        "\n",
        "fig.show()"
      ],
      "metadata": {
        "trusted": true,
        "id": "P9erFQB_oca0"
      },
      "outputs": [],
      "execution_count": null
    },
    {
      "cell_type": "code",
      "source": [
        "urls_data.head()"
      ],
      "metadata": {
        "trusted": true,
        "id": "A1uWnSJWoca0"
      },
      "outputs": [],
      "execution_count": null
    },
    {
      "cell_type": "code",
      "source": [
        "def get_url_region(primary_domain):\n",
        "    ccTLD_to_region = {\n",
        "    \".ac\": \"Ascension Island\",\n",
        "    \".ad\": \"Andorra\",\n",
        "    \".ae\": \"United Arab Emirates\",\n",
        "    \".af\": \"Afghanistan\",\n",
        "    \".ag\": \"Antigua and Barbuda\",\n",
        "    \".ai\": \"Anguilla\",\n",
        "    \".al\": \"Albania\",\n",
        "    \".am\": \"Armenia\",\n",
        "    \".an\": \"Netherlands Antilles\",\n",
        "    \".ao\": \"Angola\",\n",
        "    \".aq\": \"Antarctica\",\n",
        "    \".ar\": \"Argentina\",\n",
        "    \".as\": \"American Samoa\",\n",
        "    \".at\": \"Austria\",\n",
        "    \".au\": \"Australia\",\n",
        "    \".aw\": \"Aruba\",\n",
        "    \".ax\": \"Åland Islands\",\n",
        "    \".az\": \"Azerbaijan\",\n",
        "    \".ba\": \"Bosnia and Herzegovina\",\n",
        "    \".bb\": \"Barbados\",\n",
        "    \".bd\": \"Bangladesh\",\n",
        "    \".be\": \"Belgium\",\n",
        "    \".bf\": \"Burkina Faso\",\n",
        "    \".bg\": \"Bulgaria\",\n",
        "    \".bh\": \"Bahrain\",\n",
        "    \".bi\": \"Burundi\",\n",
        "    \".bj\": \"Benin\",\n",
        "    \".bm\": \"Bermuda\",\n",
        "    \".bn\": \"Brunei Darussalam\",\n",
        "    \".bo\": \"Bolivia\",\n",
        "    \".br\": \"Brazil\",\n",
        "    \".bs\": \"Bahamas\",\n",
        "    \".bt\": \"Bhutan\",\n",
        "    \".bv\": \"Bouvet Island\",\n",
        "    \".bw\": \"Botswana\",\n",
        "    \".by\": \"Belarus\",\n",
        "    \".bz\": \"Belize\",\n",
        "    \".ca\": \"Canada\",\n",
        "    \".cc\": \"Cocos Islands\",\n",
        "    \".cd\": \"Democratic Republic of the Congo\",\n",
        "    \".cf\": \"Central African Republic\",\n",
        "    \".cg\": \"Republic of the Congo\",\n",
        "    \".ch\": \"Switzerland\",\n",
        "    \".ci\": \"Côte d'Ivoire\",\n",
        "    \".ck\": \"Cook Islands\",\n",
        "    \".cl\": \"Chile\",\n",
        "    \".cm\": \"Cameroon\",\n",
        "    \".cn\": \"China\",\n",
        "    \".co\": \"Colombia\",\n",
        "    \".cr\": \"Costa Rica\",\n",
        "    \".cu\": \"Cuba\",\n",
        "    \".cv\": \"Cape Verde\",\n",
        "    \".cw\": \"Curaçao\",\n",
        "    \".cx\": \"Christmas Island\",\n",
        "    \".cy\": \"Cyprus\",\n",
        "    \".cz\": \"Czech Republic\",\n",
        "    \".de\": \"Germany\",\n",
        "    \".dj\": \"Djibouti\",\n",
        "    \".dk\": \"Denmark\",\n",
        "    \".dm\": \"Dominica\",\n",
        "    \".do\": \"Dominican Republic\",\n",
        "    \".dz\": \"Algeria\",\n",
        "    \".ec\": \"Ecuador\",\n",
        "    \".ee\": \"Estonia\",\n",
        "    \".eg\": \"Egypt\",\n",
        "    \".er\": \"Eritrea\",\n",
        "    \".es\": \"Spain\",\n",
        "    \".et\": \"Ethiopia\",\n",
        "    \".eu\": \"European Union\",\n",
        "    \".fi\": \"Finland\",\n",
        "    \".fj\": \"Fiji\",\n",
        "    \".fk\": \"Falkland Islands\",\n",
        "    \".fm\": \"Federated States of Micronesia\",\n",
        "    \".fo\": \"Faroe Islands\",\n",
        "    \".fr\": \"France\",\n",
        "    \".ga\": \"Gabon\",\n",
        "    \".gb\": \"United Kingdom\",\n",
        "    \".gd\": \"Grenada\",\n",
        "    \".ge\": \"Georgia\",\n",
        "    \".gf\": \"French Guiana\",\n",
        "    \".gg\": \"Guernsey\",\n",
        "    \".gh\": \"Ghana\",\n",
        "    \".gi\": \"Gibraltar\",\n",
        "    \".gl\": \"Greenland\",\n",
        "    \".gm\": \"Gambia\",\n",
        "    \".gn\": \"Guinea\",\n",
        "    \".gp\": \"Guadeloupe\",\n",
        "    \".gq\": \"Equatorial Guinea\",\n",
        "    \".gr\": \"Greece\",\n",
        "    \".gs\": \"South Georgia and the South Sandwich Islands\",\n",
        "    \".gt\": \"Guatemala\",\n",
        "    \".gu\": \"Guam\",\n",
        "    \".gw\": \"Guinea-Bissau\",\n",
        "    \".gy\": \"Guyana\",\n",
        "    \".hk\": \"Hong Kong\",\n",
        "    \".hm\": \"Heard Island and McDonald Islands\",\n",
        "    \".hn\": \"Honduras\",\n",
        "    \".hr\": \"Croatia\",\n",
        "    \".ht\": \"Haiti\",\n",
        "    \".hu\": \"Hungary\",\n",
        "    \".id\": \"Indonesia\",\n",
        "    \".ie\": \"Ireland\",\n",
        "    \".il\": \"Israel\",\n",
        "    \".im\": \"Isle of Man\",\n",
        "    \".in\": \"India\",\n",
        "    \".io\": \"British Indian Ocean Territory\",\n",
        "    \".iq\": \"Iraq\",\n",
        "    \".ir\": \"Iran\",\n",
        "    \".is\": \"Iceland\",\n",
        "    \".it\": \"Italy\",\n",
        "    \".je\": \"Jersey\",\n",
        "    \".jm\": \"Jamaica\",\n",
        "    \".jo\": \"Jordan\",\n",
        "    \".jp\": \"Japan\",\n",
        "    \".ke\": \"Kenya\",\n",
        "    \".kg\": \"Kyrgyzstan\",\n",
        "    \".kh\": \"Cambodia\",\n",
        "    \".ki\": \"Kiribati\",\n",
        "    \".km\": \"Comoros\",\n",
        "    \".kn\": \"Saint Kitts and Nevis\",\n",
        "    \".kp\": \"Democratic People's Republic of Korea (North Korea)\",\n",
        "    \".kr\": \"Republic of Korea (South Korea)\",\n",
        "    \".kw\": \"Kuwait\",\n",
        "    \".ky\": \"Cayman Islands\",\n",
        "    \".kz\": \"Kazakhstan\",\n",
        "    \".la\": \"Laos\",\n",
        "    \".lb\": \"Lebanon\",\n",
        "    \".lc\": \"Saint Lucia\",\n",
        "    \".li\": \"Liechtenstein\",\n",
        "    \".lk\": \"Sri Lanka\",\n",
        "    \".lr\": \"Liberia\",\n",
        "    \".ls\": \"Lesotho\",\n",
        "    \".lt\": \"Lithuania\",\n",
        "    \".lu\": \"Luxembourg\",\n",
        "    \".lv\": \"Latvia\",\n",
        "    \".ly\": \"Libya\",\n",
        "    \".ma\": \"Morocco\",\n",
        "    \".mc\": \"Monaco\",\n",
        "    \".md\": \"Moldova\",\n",
        "    \".me\": \"Montenegro\",\n",
        "    \".mf\": \"Saint Martin (French part)\",\n",
        "    \".mg\": \"Madagascar\",\n",
        "    \".mh\": \"Marshall Islands\",\n",
        "    \".mk\": \"North Macedonia\",\n",
        "    \".ml\": \"Mali\",\n",
        "    \".mm\": \"Myanmar\",\n",
        "    \".mn\": \"Mongolia\",\n",
        "    \".mo\": \"Macao\",\n",
        "    \".mp\": \"Northern Mariana Islands\",\n",
        "    \".mq\": \"Martinique\",\n",
        "    \".mr\": \"Mauritania\",\n",
        "    \".ms\": \"Montserrat\",\n",
        "    \".mt\": \"Malta\",\n",
        "    \".mu\": \"Mauritius\",\n",
        "    \".mv\": \"Maldives\",\n",
        "    \".mw\": \"Malawi\",\n",
        "    \".mx\": \"Mexico\",\n",
        "    \".my\": \"Malaysia\",\n",
        "    \".mz\": \"Mozambique\",\n",
        "    \".na\": \"Namibia\",\n",
        "    \".nc\": \"New Caledonia\",\n",
        "    \".ne\": \"Niger\",\n",
        "    \".nf\": \"Norfolk Island\",\n",
        "    \".ng\": \"Nigeria\",\n",
        "    \".ni\": \"Nicaragua\",\n",
        "    \".nl\": \"Netherlands\",\n",
        "    \".no\": \"Norway\",\n",
        "    \".np\": \"Nepal\",\n",
        "    \".nr\": \"Nauru\",\n",
        "    \".nu\": \"Niue\",\n",
        "    \".nz\": \"New Zealand\",\n",
        "    \".om\": \"Oman\",\n",
        "    \".pa\": \"Panama\",\n",
        "    \".pe\": \"Peru\",\n",
        "    \".pf\": \"French Polynesia\",\n",
        "    \".pg\": \"Papua New Guinea\",\n",
        "    \".ph\": \"Philippines\",\n",
        "    \".pk\": \"Pakistan\",\n",
        "    \".pl\": \"Poland\",\n",
        "    \".pm\": \"Saint Pierre and Miquelon\",\n",
        "    \".pn\": \"Pitcairn\",\n",
        "    \".pr\": \"Puerto Rico\",\n",
        "    \".ps\": \"Palestinian Territory\",\n",
        "    \".pt\": \"Portugal\",\n",
        "    \".pw\": \"Palau\",\n",
        "    \".py\": \"Paraguay\",\n",
        "    \".qa\": \"Qatar\",\n",
        "    \".re\": \"Réunion\",\n",
        "    \".ro\": \"Romania\",\n",
        "    \".rs\": \"Serbia\",\n",
        "    \".ru\": \"Russia\",\n",
        "    \".rw\": \"Rwanda\",\n",
        "    \".sa\": \"Saudi Arabia\",\n",
        "    \".sb\": \"Solomon Islands\",\n",
        "    \".sc\": \"Seychelles\",\n",
        "    \".sd\": \"Sudan\",\n",
        "    \".se\": \"Sweden\",\n",
        "    \".sg\": \"Singapore\",\n",
        "    \".sh\": \"Saint Helena\",\n",
        "    \".si\": \"Slovenia\",\n",
        "    \".sj\": \"Svalbard and Jan Mayen\",\n",
        "    \".sk\": \"Slovakia\",\n",
        "    \".sl\": \"Sierra Leone\",\n",
        "    \".sm\": \"San Marino\",\n",
        "    \".sn\": \"Senegal\",\n",
        "    \".so\": \"Somalia\",\n",
        "    \".sr\": \"Suriname\",\n",
        "    \".ss\": \"South Sudan\",\n",
        "    \".st\": \"São Tomé and Príncipe\",\n",
        "    \".sv\": \"El Salvador\",\n",
        "    \".sx\": \"Sint Maarten (Dutch part)\",\n",
        "    \".sy\": \"Syria\",\n",
        "    \".sz\": \"Eswatini\",\n",
        "    \".tc\": \"Turks and Caicos Islands\",\n",
        "    \".td\": \"Chad\",\n",
        "    \".tf\": \"French Southern Territories\",\n",
        "    \".tg\": \"Togo\",\n",
        "    \".th\": \"Thailand\",\n",
        "    \".tj\": \"Tajikistan\",\n",
        "    \".tk\": \"Tokelau\",\n",
        "    \".tl\": \"Timor-Leste\",\n",
        "    \".tm\": \"Turkmenistan\",\n",
        "    \".tn\": \"Tunisia\",\n",
        "    \".to\": \"Tonga\",\n",
        "    \".tr\": \"Turkey\",\n",
        "    \".tt\": \"Trinidad and Tobago\",\n",
        "    \".tv\": \"Tuvalu\",\n",
        "    \".tw\": \"Taiwan\",\n",
        "    \".tz\": \"Tanzania\",\n",
        "    \".ua\": \"Ukraine\",\n",
        "    \".ug\": \"Uganda\",\n",
        "    \".uk\": \"United Kingdom\",\n",
        "    \".us\": \"United States\",\n",
        "    \".uy\": \"Uruguay\",\n",
        "    \".uz\": \"Uzbekistan\",\n",
        "    \".va\": \"Vatican City\",\n",
        "    \".vc\": \"Saint Vincent and the Grenadines\",\n",
        "    \".ve\": \"Venezuela\",\n",
        "    \".vg\": \"British Virgin Islands\",\n",
        "    \".vi\": \"U.S. Virgin Islands\",\n",
        "    \".vn\": \"Vietnam\",\n",
        "    \".vu\": \"Vanuatu\",\n",
        "    \".wf\": \"Wallis and Futuna\",\n",
        "    \".ws\": \"Samoa\",\n",
        "    \".ye\": \"Yemen\",\n",
        "    \".yt\": \"Mayotte\",\n",
        "    \".za\": \"South Africa\",\n",
        "    \".zm\": \"Zambia\",\n",
        "    \".zw\": \"Zimbabwe\"\n",
        "    }\n",
        "\n",
        "    for ccTLD in ccTLD_to_region:\n",
        "        if primary_domain.endswith(ccTLD):\n",
        "            return ccTLD_to_region[ccTLD]\n",
        "\n",
        "    return \"Global\""
      ],
      "metadata": {
        "trusted": true,
        "id": "DD20OVMjoca0"
      },
      "outputs": [],
      "execution_count": null
    },
    {
      "cell_type": "code",
      "source": [
        "urls_data['url_region'] = urls_data['pri_domain'].apply(lambda x: get_url_region(str(x)))"
      ],
      "metadata": {
        "trusted": true,
        "id": "mynjXC_Toca1"
      },
      "outputs": [],
      "execution_count": null
    },
    {
      "cell_type": "code",
      "source": [
        "urls_data.head()"
      ],
      "metadata": {
        "trusted": true,
        "id": "XvgrUnfBoca1"
      },
      "outputs": [],
      "execution_count": null
    },
    {
      "cell_type": "code",
      "source": [
        "region_counts = urls_data['url_region'].value_counts()\n",
        "\n",
        "if 'Global' not in region_counts.index:\n",
        "    region_counts['Global'] = 0\n",
        "\n",
        "data = pd.DataFrame({'region': region_counts.index, 'count': region_counts.values})\n",
        "\n",
        "colorscale = 'YlOrRd'\n",
        "\n",
        "fig = go.Figure(data=go.Choropleth(\n",
        "    locations=data['region'],\n",
        "    z=data['count'],\n",
        "    locationmode='country names',\n",
        "    colorscale=colorscale,\n",
        "    autocolorscale=True,\n",
        "    marker_line_color='white',\n",
        "    colorbar_title='Count'\n",
        "))\n",
        "\n",
        "\n",
        "fig.update_layout(title_text='Distribution of URL Regions')\n",
        "\n",
        "fig.show()"
      ],
      "metadata": {
        "trusted": true,
        "id": "zvJOeJdMoca1"
      },
      "outputs": [],
      "execution_count": null
    },
    {
      "cell_type": "code",
      "source": [
        "def extract_root_domain(url):\n",
        "    extracted = tldextract.extract(url)\n",
        "    root_domain = extracted.domain\n",
        "    return root_domain"
      ],
      "metadata": {
        "trusted": true,
        "id": "1r5BNsNmoca1"
      },
      "outputs": [],
      "execution_count": null
    },
    {
      "cell_type": "code",
      "source": [
        "urls_data['root_domain'] = urls_data['pri_domain'].apply(lambda x: extract_root_domain(str(x)))"
      ],
      "metadata": {
        "trusted": true,
        "id": "X_ICBqxfoca1"
      },
      "outputs": [],
      "execution_count": null
    },
    {
      "cell_type": "code",
      "source": [
        "urls_data.head()"
      ],
      "metadata": {
        "trusted": true,
        "id": "murX7qU0oca1"
      },
      "outputs": [],
      "execution_count": null
    },
    {
      "cell_type": "code",
      "source": [
        "urls_data.isnull().sum()"
      ],
      "metadata": {
        "trusted": true,
        "id": "VIy9GP8Moca2"
      },
      "outputs": [],
      "execution_count": null
    },
    {
      "cell_type": "code",
      "source": [
        "urls_data.shape"
      ],
      "metadata": {
        "trusted": true,
        "id": "R0Mvb6nwoca2"
      },
      "outputs": [],
      "execution_count": null
    },
    {
      "cell_type": "code",
      "source": [
        "urls_data.duplicated().sum()"
      ],
      "metadata": {
        "trusted": true,
        "id": "W0vnKBtYoca2"
      },
      "outputs": [],
      "execution_count": null
    },
    {
      "cell_type": "code",
      "source": [
        "urls_data.drop_duplicates(inplace=True)"
      ],
      "metadata": {
        "trusted": true,
        "id": "ZbuMApNGoca2"
      },
      "outputs": [],
      "execution_count": null
    },
    {
      "cell_type": "code",
      "source": [
        "urls_data.columns"
      ],
      "metadata": {
        "trusted": true,
        "id": "QRyJb6B7oca2"
      },
      "outputs": [],
      "execution_count": null
    },
    {
      "cell_type": "code",
      "source": [
        "urls_data.head()"
      ],
      "metadata": {
        "trusted": true,
        "id": "JnRC3wt9oca2"
      },
      "outputs": [],
      "execution_count": null
    },
    {
      "cell_type": "code",
      "source": [
        "data = urls_data.drop(columns=['url','type','pri_domain'])\n",
        "data.head()"
      ],
      "metadata": {
        "trusted": true,
        "id": "qzxU93oYoca2"
      },
      "outputs": [],
      "execution_count": null
    },
    {
      "cell_type": "code",
      "source": [
        "data['root_domain'].value_counts()"
      ],
      "metadata": {
        "trusted": true,
        "id": "zRGN2zwFoca2"
      },
      "outputs": [],
      "execution_count": null
    },
    {
      "cell_type": "code",
      "source": [
        "data = data[data['root_domain'] != '0']"
      ],
      "metadata": {
        "trusted": true,
        "id": "qosuqud8oca2"
      },
      "outputs": [],
      "execution_count": null
    },
    {
      "cell_type": "code",
      "source": [
        "data['root_domain'].value_counts()"
      ],
      "metadata": {
        "trusted": true,
        "id": "Z3MvDAf6oca3"
      },
      "outputs": [],
      "execution_count": null
    },
    {
      "cell_type": "code",
      "source": [
        "len(data['root_domain'].value_counts())"
      ],
      "metadata": {
        "trusted": true,
        "id": "o6uMY7pMoca3"
      },
      "outputs": [],
      "execution_count": null
    },
    {
      "cell_type": "code",
      "source": [
        "def hash_encode(category):\n",
        "    hash_object = hashlib.md5(category.encode())\n",
        "    return int(hash_object.hexdigest(), 16) % (10 ** 8)"
      ],
      "metadata": {
        "trusted": true,
        "id": "WMCYIWRPoca3"
      },
      "outputs": [],
      "execution_count": null
    },
    {
      "cell_type": "code",
      "source": [
        "data['root_domain'] = data['root_domain'].apply(hash_encode)"
      ],
      "metadata": {
        "trusted": true,
        "id": "oiuhYb3_oca3"
      },
      "outputs": [],
      "execution_count": null
    },
    {
      "cell_type": "code",
      "source": [
        "data['url_region'] = data['url_region'].apply(hash_encode)"
      ],
      "metadata": {
        "trusted": true,
        "id": "P-zGjlwboca3"
      },
      "outputs": [],
      "execution_count": null
    },
    {
      "cell_type": "code",
      "source": [
        "data.head()"
      ],
      "metadata": {
        "trusted": true,
        "id": "14OisM-Yoca3"
      },
      "outputs": [],
      "execution_count": null
    },
    {
      "cell_type": "code",
      "source": [
        "data.shape"
      ],
      "metadata": {
        "trusted": true,
        "id": "nH6t3BhEoca3"
      },
      "outputs": [],
      "execution_count": null
    },
    {
      "cell_type": "code",
      "source": [
        "data.isnull().sum()"
      ],
      "metadata": {
        "trusted": true,
        "id": "PL7z0KuYoca3"
      },
      "outputs": [],
      "execution_count": null
    },
    {
      "cell_type": "code",
      "source": [
        "data.columns"
      ],
      "metadata": {
        "trusted": true,
        "id": "RYnua3CToca4"
      },
      "outputs": [],
      "execution_count": null
    },
    {
      "cell_type": "code",
      "source": [
        "x = data.drop(columns=['url_type'])\n",
        "y = data['url_type']\n",
        "x_train,x_test,y_train,y_test = train_test_split(x,y,test_size=0.3, random_state=42)"
      ],
      "metadata": {
        "trusted": true,
        "id": "EX5kGuhVoca4"
      },
      "outputs": [],
      "execution_count": null
    },
    {
      "cell_type": "markdown",
      "source": [
        "<div style=\"background-color:#dfe3ee; border-radius:2px; border:#000000 solid; padding: 15px; font-size:100%; text-align:center\">\n",
        "    <h2 align=\"center\" style=\"color:#000000;\"><b>MODEL DEVELOPMENT</b></h2>\n",
        "</div>"
      ],
      "metadata": {
        "id": "fM3klky0oca4"
      }
    },
    {
      "cell_type": "code",
      "source": [
        "print(f\"X_train Shape : {x_train.shape}\")\n",
        "print(f\"Y_train Shape : {y_train.shape}\")\n",
        "print(f\"X_test  Shape : {x_test.shape}\")\n",
        "print(f\"Y_test  Shape : {y_test.shape}\")"
      ],
      "metadata": {
        "trusted": true,
        "id": "vczZsx6foca4"
      },
      "outputs": [],
      "execution_count": null
    },
    {
      "cell_type": "code",
      "source": [
        "classifiers = [\n",
        "    DecisionTreeClassifier(),\n",
        "    RandomForestClassifier(),\n",
        "    AdaBoostClassifier(),\n",
        "    KNeighborsClassifier(),\n",
        "    ExtraTreesClassifier(),\n",
        "    GaussianNB()\n",
        "]"
      ],
      "metadata": {
        "trusted": true,
        "id": "dt4wUJJEoca4"
      },
      "outputs": [],
      "execution_count": null
    },
    {
      "cell_type": "code",
      "source": [
        "results = []\n",
        "for classifier in classifiers:\n",
        "    pipeline = Pipeline([\n",
        "        ('classifier', classifier)\n",
        "    ])\n",
        "    scores = cross_val_score(pipeline, x, y, cv=2, scoring='accuracy')\n",
        "    y_pred = cross_val_predict(pipeline, x, y, cv=2)\n",
        "    accuracy = accuracy_score(y, y_pred)\n",
        "    recall = recall_score(y, y_pred, average='weighted')\n",
        "    precision = precision_score(y, y_pred, average='weighted', zero_division=1)\n",
        "    f1 = f1_score(y, y_pred, average='weighted')\n",
        "    results.append((classifier.__class__.__name__, accuracy, recall, precision, f1))"
      ],
      "metadata": {
        "trusted": true,
        "id": "aSSLGBZFoca4"
      },
      "outputs": [],
      "execution_count": null
    },
    {
      "cell_type": "code",
      "source": [
        "results = pd.DataFrame(results, columns=['Classifier', 'Accuracy', 'Recall', 'Precision', 'F1-Score'])\n",
        "results = results.sort_values(by='Accuracy', ascending=False)\n",
        "results.head()"
      ],
      "metadata": {
        "trusted": true,
        "id": "xGBN1Sv5oca4"
      },
      "outputs": [],
      "execution_count": null
    },
    {
      "cell_type": "code",
      "source": [
        "pipeline = Pipeline([\n",
        "        ('classifier', ExtraTreesClassifier())\n",
        "    ])\n",
        "pipeline.fit(x_train,y_train)"
      ],
      "metadata": {
        "trusted": true,
        "id": "_WBilEx1oca5"
      },
      "outputs": [],
      "execution_count": null
    },
    {
      "cell_type": "code",
      "source": [
        "y_pred = pipeline.predict(x_test)\n",
        "print(classification_report(y_test,y_pred))"
      ],
      "metadata": {
        "trusted": true,
        "id": "rRRKHlJIoca5"
      },
      "outputs": [],
      "execution_count": null
    },
    {
      "cell_type": "code",
      "source": [
        "import joblib\n",
        "joblib.dump(pipeline,'eTc.sav')"
      ],
      "metadata": {
        "trusted": true,
        "id": "ofEI7OHEoca5"
      },
      "outputs": [],
      "execution_count": null
    },
    {
      "cell_type": "markdown",
      "source": [
        "<div style=\"background-color:#dfe3ee; border-radius:2px; border:#000000 solid; padding: 15px; font-size:100%; text-align:center\">\n",
        "    <h2 align=\"center\" style=\"color:#000000;\"><b>MODEL RESULTS</b></h2>\n",
        "</div>\n"
      ],
      "metadata": {
        "id": "ZRpUGnfeoca5"
      }
    },
    {
      "cell_type": "code",
      "source": [
        "fig = go.Figure(data=go.Table(\n",
        "    header=dict(values=['Model', 'Accuracy', 'Precision', 'Recall', 'F1-Score'],\n",
        "                fill_color='black',\n",
        "                font=dict(color='white'),\n",
        "                align='center'),\n",
        "    cells=dict(values=[results['Classifier'], results['Accuracy'], results['Precision'],\n",
        "                       results['Recall'], results['F1-Score']],\n",
        "               fill_color='black',\n",
        "               font=dict(color='white'),\n",
        "               align='center')))\n",
        "\n",
        "fig.update_layout(\n",
        "    paper_bgcolor='black',\n",
        "    plot_bgcolor='black',\n",
        "    font=dict(color='white'))\n",
        "\n",
        "fig.show()"
      ],
      "metadata": {
        "trusted": true,
        "id": "F9lgZAL2oca5"
      },
      "outputs": [],
      "execution_count": null
    },
    {
      "cell_type": "code",
      "source": [
        "for column in results.columns:\n",
        "    fig = go.Figure(data=go.Bar(\n",
        "        x=results['Classifier'],\n",
        "        y=results[column],\n",
        "        marker=dict(color='steelblue'),\n",
        "        text=results[column],\n",
        "        textposition='auto'\n",
        "    ))\n",
        "\n",
        "    fig.update_layout(\n",
        "        title_text=column,\n",
        "        xaxis_title='Model',\n",
        "        yaxis_title=column,\n",
        "        plot_bgcolor='rgb(17,17,17)',\n",
        "        paper_bgcolor='rgb(17,17,17)',\n",
        "        font=dict(color='white')\n",
        "    )\n",
        "\n",
        "\n",
        "    fig.show()"
      ],
      "metadata": {
        "trusted": true,
        "id": "jgJupQCPoca5"
      },
      "outputs": [],
      "execution_count": null
    },
    {
      "cell_type": "code",
      "source": [
        "def get_numerical_values(url):\n",
        "    url = url.replace('www.', '')\n",
        "    url_len = get_url_length(url)\n",
        "    letters_count = count_letters(url)\n",
        "    digits_count  = count_digits(url)\n",
        "    special_chars_count = count_special_chars(url)\n",
        "    shortened = has_shortening_service(url)\n",
        "    abnormal = abnormal_url(url)\n",
        "    secure_https = secure_http(url)\n",
        "    have_ip = have_ip_address(url)\n",
        "\n",
        "    parsed_url  = urlparse(url)\n",
        "    root_domain = parsed_url.netloc.split(\".\")[-2]\n",
        "    url_region = get_url_region(root_domain)\n",
        "\n",
        "    return {\n",
        "        'url_len': url_len,\n",
        "        'letters_count': letters_count,\n",
        "        'digits_count': digits_count,\n",
        "        'special_chars_count': special_chars_count,\n",
        "        'shortened': shortened,\n",
        "        'abnormal': abnormal,\n",
        "        'secure_http': secure_https,\n",
        "        'have_ip': have_ip,\n",
        "        'url_region': hash_encode(url_region),\n",
        "        'root_domain': hash_encode(root_domain)\n",
        "    }\n",
        "\n",
        "def get_url_length(url):\n",
        "    return len(url)\n",
        "def extract_pri_domain(url):\n",
        "    try:\n",
        "        res = get_tld(url, as_object = True, fail_silently=False,fix_protocol=True)\n",
        "        pri_domain= res.parsed_url.netloc\n",
        "    except :\n",
        "        pri_domain= None\n",
        "    return pri_domain\n",
        "def count_letters(url):\n",
        "    num_letters = sum(char.isalpha() for char in url)\n",
        "    return num_letters\n",
        "\n",
        "def count_digits(url):\n",
        "    num_digits = sum(char.isdigit() for char in url)\n",
        "    return num_digits\n",
        "def count_special_chars(url):\n",
        "    special_chars = \"!@#$%^&*()_+-=[]{};:,.<>/?`~|\"\n",
        "    num_special_chars = sum(char in special_chars for char in url)\n",
        "    return num_special_chars\n",
        "def has_shortening_service(url):\n",
        "    pattern = re.compile(r'bit\\.ly|goo\\.gl|shorte\\.st|go2l\\.ink|x\\.co|ow\\.ly|t\\.co|tinyurl|tr\\.im|is\\.gd|cli\\.gs|'\n",
        "                         r'yfrog\\.com|migre\\.me|ff\\.im|tiny\\.cc|url4\\.eu|twit\\.ac|su\\.pr|twurl\\.nl|snipurl\\.com|'\n",
        "                         r'short\\.to|BudURL\\.com|ping\\.fm|post\\.ly|Just\\.as|bkite\\.com|snipr\\.com|fic\\.kr|loopt\\.us|'\n",
        "                         r'doiop\\.com|short\\.ie|kl\\.am|wp\\.me|rubyurl\\.com|om\\.ly|to\\.ly|bit\\.do|t\\.co|lnkd\\.in|'\n",
        "                         r'db\\.tt|qr\\.ae|adf\\.ly|goo\\.gl|bitly\\.com|cur\\.lv|tinyurl\\.com|ow\\.ly|bit\\.ly|ity\\.im|'\n",
        "                         r'q\\.gs|is\\.gd|po\\.st|bc\\.vc|twitthis\\.com|u\\.to|j\\.mp|buzurl\\.com|cutt\\.us|u\\.bb|yourls\\.org|'\n",
        "                         r'x\\.co|prettylinkpro\\.com|scrnch\\.me|filoops\\.info|vzturl\\.com|qr\\.net|1url\\.com|tweez\\.me|v\\.gd|'\n",
        "                         r'tr\\.im|link\\.zip\\.net')\n",
        "    match = pattern.search(url)\n",
        "    return int(bool(match))\n",
        "def abnormal_url(url):\n",
        "    parsed_url = urlparse(url)\n",
        "    hostname = parsed_url.hostname\n",
        "    if hostname:\n",
        "        hostname = str(hostname)\n",
        "        match = re.search(hostname, url)\n",
        "        if match:\n",
        "            return 1\n",
        "    return 0\n",
        "def secure_http(url):\n",
        "    scheme = urlparse(url).scheme\n",
        "    if scheme == 'https':\n",
        "        return 1\n",
        "    else:\n",
        "        return 0\n",
        "def have_ip_address(url):\n",
        "    pattern = r'(([01]?\\d\\d?|2[0-4]\\d|25[0-5])\\.([01]?\\d\\d?|2[0-4]\\d|25[0-5])\\.([01]?\\d\\d?|2[0-4]\\d|25[0-5])\\.' \\\n",
        "              r'([01]?\\d\\d?|2[0-4]\\d|25[0-5])\\/)|' \\\n",
        "              r'(([01]?\\d\\d?|2[0-4]\\d|25[0-5])\\.([01]?\\d\\d?|2[0-4]\\d|25[0-5])\\.([01]?\\d\\d?|2[0-4]\\d|25[0-5])\\.' \\\n",
        "              r'([01]?\\d\\d?|2[0-4]\\d|25[0-5])\\/)|' \\\n",
        "              r'((0x[0-9a-fA-F]{1,2})\\.(0x[0-9a-fA-F]{1,2})\\.(0x[0-9a-fA-F]{1,2})\\.(0x[0-9a-fA-F]{1,2})\\/)' \\\n",
        "              r'(?:[a-fA-F0-9]{1,4}:){7}[a-fA-F0-9]{1,4}|' \\\n",
        "              r'([0-9]+(?:\\.[0-9]+){3}:[0-9]+)|' \\\n",
        "              r'((?:(?:\\d|[01]?\\d\\d|2[0-4]\\d|25[0-5])\\.){3}(?:25[0-5]|2[0-4]\\d|[01]?\\d\\d|\\d)(?:\\/\\d{1,2})?)'\n",
        "\n",
        "    match = re.search(pattern, url)\n",
        "    if match:\n",
        "        return 1\n",
        "    else:\n",
        "        return 0\n",
        "def get_url_region(primary_domain):\n",
        "    ccTLD_to_region = {\n",
        "    \".ac\": \"Ascension Island\",\n",
        "    \".ad\": \"Andorra\",\n",
        "    \".ae\": \"United Arab Emirates\",\n",
        "    \".af\": \"Afghanistan\",\n",
        "    \".ag\": \"Antigua and Barbuda\",\n",
        "    \".ai\": \"Anguilla\",\n",
        "    \".al\": \"Albania\",\n",
        "    \".am\": \"Armenia\",\n",
        "    \".an\": \"Netherlands Antilles\",\n",
        "    \".ao\": \"Angola\",\n",
        "    \".aq\": \"Antarctica\",\n",
        "    \".ar\": \"Argentina\",\n",
        "    \".as\": \"American Samoa\",\n",
        "    \".at\": \"Austria\",\n",
        "    \".au\": \"Australia\",\n",
        "    \".aw\": \"Aruba\",\n",
        "    \".ax\": \"Åland Islands\",\n",
        "    \".az\": \"Azerbaijan\",\n",
        "    \".ba\": \"Bosnia and Herzegovina\",\n",
        "    \".bb\": \"Barbados\",\n",
        "    \".bd\": \"Bangladesh\",\n",
        "    \".be\": \"Belgium\",\n",
        "    \".bf\": \"Burkina Faso\",\n",
        "    \".bg\": \"Bulgaria\",\n",
        "    \".bh\": \"Bahrain\",\n",
        "    \".bi\": \"Burundi\",\n",
        "    \".bj\": \"Benin\",\n",
        "    \".bm\": \"Bermuda\",\n",
        "    \".bn\": \"Brunei Darussalam\",\n",
        "    \".bo\": \"Bolivia\",\n",
        "    \".br\": \"Brazil\",\n",
        "    \".bs\": \"Bahamas\",\n",
        "    \".bt\": \"Bhutan\",\n",
        "    \".bv\": \"Bouvet Island\",\n",
        "    \".bw\": \"Botswana\",\n",
        "    \".by\": \"Belarus\",\n",
        "    \".bz\": \"Belize\",\n",
        "    \".ca\": \"Canada\",\n",
        "    \".cc\": \"Cocos Islands\",\n",
        "    \".cd\": \"Democratic Republic of the Congo\",\n",
        "    \".cf\": \"Central African Republic\",\n",
        "    \".cg\": \"Republic of the Congo\",\n",
        "    \".ch\": \"Switzerland\",\n",
        "    \".ci\": \"Côte d'Ivoire\",\n",
        "    \".ck\": \"Cook Islands\",\n",
        "    \".cl\": \"Chile\",\n",
        "    \".cm\": \"Cameroon\",\n",
        "    \".cn\": \"China\",\n",
        "    \".co\": \"Colombia\",\n",
        "    \".cr\": \"Costa Rica\",\n",
        "    \".cu\": \"Cuba\",\n",
        "    \".cv\": \"Cape Verde\",\n",
        "    \".cw\": \"Curaçao\",\n",
        "    \".cx\": \"Christmas Island\",\n",
        "    \".cy\": \"Cyprus\",\n",
        "    \".cz\": \"Czech Republic\",\n",
        "    \".de\": \"Germany\",\n",
        "    \".dj\": \"Djibouti\",\n",
        "    \".dk\": \"Denmark\",\n",
        "    \".dm\": \"Dominica\",\n",
        "    \".do\": \"Dominican Republic\",\n",
        "    \".dz\": \"Algeria\",\n",
        "    \".ec\": \"Ecuador\",\n",
        "    \".ee\": \"Estonia\",\n",
        "    \".eg\": \"Egypt\",\n",
        "    \".er\": \"Eritrea\",\n",
        "    \".es\": \"Spain\",\n",
        "    \".et\": \"Ethiopia\",\n",
        "    \".eu\": \"European Union\",\n",
        "    \".fi\": \"Finland\",\n",
        "    \".fj\": \"Fiji\",\n",
        "    \".fk\": \"Falkland Islands\",\n",
        "    \".fm\": \"Federated States of Micronesia\",\n",
        "    \".fo\": \"Faroe Islands\",\n",
        "    \".fr\": \"France\",\n",
        "    \".ga\": \"Gabon\",\n",
        "    \".gb\": \"United Kingdom\",\n",
        "    \".gd\": \"Grenada\",\n",
        "    \".ge\": \"Georgia\",\n",
        "    \".gf\": \"French Guiana\",\n",
        "    \".gg\": \"Guernsey\",\n",
        "    \".gh\": \"Ghana\",\n",
        "    \".gi\": \"Gibraltar\",\n",
        "    \".gl\": \"Greenland\",\n",
        "    \".gm\": \"Gambia\",\n",
        "    \".gn\": \"Guinea\",\n",
        "    \".gp\": \"Guadeloupe\",\n",
        "    \".gq\": \"Equatorial Guinea\",\n",
        "    \".gr\": \"Greece\",\n",
        "    \".gs\": \"South Georgia and the South Sandwich Islands\",\n",
        "    \".gt\": \"Guatemala\",\n",
        "    \".gu\": \"Guam\",\n",
        "    \".gw\": \"Guinea-Bissau\",\n",
        "    \".gy\": \"Guyana\",\n",
        "    \".hk\": \"Hong Kong\",\n",
        "    \".hm\": \"Heard Island and McDonald Islands\",\n",
        "    \".hn\": \"Honduras\",\n",
        "    \".hr\": \"Croatia\",\n",
        "    \".ht\": \"Haiti\",\n",
        "    \".hu\": \"Hungary\",\n",
        "    \".id\": \"Indonesia\",\n",
        "    \".ie\": \"Ireland\",\n",
        "    \".il\": \"Israel\",\n",
        "    \".im\": \"Isle of Man\",\n",
        "    \".in\": \"India\",\n",
        "    \".io\": \"British Indian Ocean Territory\",\n",
        "    \".iq\": \"Iraq\",\n",
        "    \".ir\": \"Iran\",\n",
        "    \".is\": \"Iceland\",\n",
        "    \".it\": \"Italy\",\n",
        "    \".je\": \"Jersey\",\n",
        "    \".jm\": \"Jamaica\",\n",
        "    \".jo\": \"Jordan\",\n",
        "    \".jp\": \"Japan\",\n",
        "    \".ke\": \"Kenya\",\n",
        "    \".kg\": \"Kyrgyzstan\",\n",
        "    \".kh\": \"Cambodia\",\n",
        "    \".ki\": \"Kiribati\",\n",
        "    \".km\": \"Comoros\",\n",
        "    \".kn\": \"Saint Kitts and Nevis\",\n",
        "    \".kp\": \"Democratic People's Republic of Korea (North Korea)\",\n",
        "    \".kr\": \"Republic of Korea (South Korea)\",\n",
        "    \".kw\": \"Kuwait\",\n",
        "    \".ky\": \"Cayman Islands\",\n",
        "    \".kz\": \"Kazakhstan\",\n",
        "    \".la\": \"Laos\",\n",
        "    \".lb\": \"Lebanon\",\n",
        "    \".lc\": \"Saint Lucia\",\n",
        "    \".li\": \"Liechtenstein\",\n",
        "    \".lk\": \"Sri Lanka\",\n",
        "    \".lr\": \"Liberia\",\n",
        "    \".ls\": \"Lesotho\",\n",
        "    \".lt\": \"Lithuania\",\n",
        "    \".lu\": \"Luxembourg\",\n",
        "    \".lv\": \"Latvia\",\n",
        "    \".ly\": \"Libya\",\n",
        "    \".ma\": \"Morocco\",\n",
        "    \".mc\": \"Monaco\",\n",
        "    \".md\": \"Moldova\",\n",
        "    \".me\": \"Montenegro\",\n",
        "    \".mf\": \"Saint Martin (French part)\",\n",
        "    \".mg\": \"Madagascar\",\n",
        "    \".mh\": \"Marshall Islands\",\n",
        "    \".mk\": \"North Macedonia\",\n",
        "    \".ml\": \"Mali\",\n",
        "    \".mm\": \"Myanmar\",\n",
        "    \".mn\": \"Mongolia\",\n",
        "    \".mo\": \"Macao\",\n",
        "    \".mp\": \"Northern Mariana Islands\",\n",
        "    \".mq\": \"Martinique\",\n",
        "    \".mr\": \"Mauritania\",\n",
        "    \".ms\": \"Montserrat\",\n",
        "    \".mt\": \"Malta\",\n",
        "    \".mu\": \"Mauritius\",\n",
        "    \".mv\": \"Maldives\",\n",
        "    \".mw\": \"Malawi\",\n",
        "    \".mx\": \"Mexico\",\n",
        "    \".my\": \"Malaysia\",\n",
        "    \".mz\": \"Mozambique\",\n",
        "    \".na\": \"Namibia\",\n",
        "    \".nc\": \"New Caledonia\",\n",
        "    \".ne\": \"Niger\",\n",
        "    \".nf\": \"Norfolk Island\",\n",
        "    \".ng\": \"Nigeria\",\n",
        "    \".ni\": \"Nicaragua\",\n",
        "    \".nl\": \"Netherlands\",\n",
        "    \".no\": \"Norway\",\n",
        "    \".np\": \"Nepal\",\n",
        "    \".nr\": \"Nauru\",\n",
        "    \".nu\": \"Niue\",\n",
        "    \".nz\": \"New Zealand\",\n",
        "    \".om\": \"Oman\",\n",
        "    \".pa\": \"Panama\",\n",
        "    \".pe\": \"Peru\",\n",
        "    \".pf\": \"French Polynesia\",\n",
        "    \".pg\": \"Papua New Guinea\",\n",
        "    \".ph\": \"Philippines\",\n",
        "    \".pk\": \"Pakistan\",\n",
        "    \".pl\": \"Poland\",\n",
        "    \".pm\": \"Saint Pierre and Miquelon\",\n",
        "    \".pn\": \"Pitcairn\",\n",
        "    \".pr\": \"Puerto Rico\",\n",
        "    \".ps\": \"Palestinian Territory\",\n",
        "    \".pt\": \"Portugal\",\n",
        "    \".pw\": \"Palau\",\n",
        "    \".py\": \"Paraguay\",\n",
        "    \".qa\": \"Qatar\",\n",
        "    \".re\": \"Réunion\",\n",
        "    \".ro\": \"Romania\",\n",
        "    \".rs\": \"Serbia\",\n",
        "    \".ru\": \"Russia\",\n",
        "    \".rw\": \"Rwanda\",\n",
        "    \".sa\": \"Saudi Arabia\",\n",
        "    \".sb\": \"Solomon Islands\",\n",
        "    \".sc\": \"Seychelles\",\n",
        "    \".sd\": \"Sudan\",\n",
        "    \".se\": \"Sweden\",\n",
        "    \".sg\": \"Singapore\",\n",
        "    \".sh\": \"Saint Helena\",\n",
        "    \".si\": \"Slovenia\",\n",
        "    \".sj\": \"Svalbard and Jan Mayen\",\n",
        "    \".sk\": \"Slovakia\",\n",
        "    \".sl\": \"Sierra Leone\",\n",
        "    \".sm\": \"San Marino\",\n",
        "    \".sn\": \"Senegal\",\n",
        "    \".so\": \"Somalia\",\n",
        "    \".sr\": \"Suriname\",\n",
        "    \".ss\": \"South Sudan\",\n",
        "    \".st\": \"São Tomé and Príncipe\",\n",
        "    \".sv\": \"El Salvador\",\n",
        "    \".sx\": \"Sint Maarten (Dutch part)\",\n",
        "    \".sy\": \"Syria\",\n",
        "    \".sz\": \"Eswatini\",\n",
        "    \".tc\": \"Turks and Caicos Islands\",\n",
        "    \".td\": \"Chad\",\n",
        "    \".tf\": \"French Southern Territories\",\n",
        "    \".tg\": \"Togo\",\n",
        "    \".th\": \"Thailand\",\n",
        "    \".tj\": \"Tajikistan\",\n",
        "    \".tk\": \"Tokelau\",\n",
        "    \".tl\": \"Timor-Leste\",\n",
        "    \".tm\": \"Turkmenistan\",\n",
        "    \".tn\": \"Tunisia\",\n",
        "    \".to\": \"Tonga\",\n",
        "    \".tr\": \"Turkey\",\n",
        "    \".tt\": \"Trinidad and Tobago\",\n",
        "    \".tv\": \"Tuvalu\",\n",
        "    \".tw\": \"Taiwan\",\n",
        "    \".tz\": \"Tanzania\",\n",
        "    \".ua\": \"Ukraine\",\n",
        "    \".ug\": \"Uganda\",\n",
        "    \".uk\": \"United Kingdom\",\n",
        "    \".us\": \"United States\",\n",
        "    \".uy\": \"Uruguay\",\n",
        "    \".uz\": \"Uzbekistan\",\n",
        "    \".va\": \"Vatican City\",\n",
        "    \".vc\": \"Saint Vincent and the Grenadines\",\n",
        "    \".ve\": \"Venezuela\",\n",
        "    \".vg\": \"British Virgin Islands\",\n",
        "    \".vi\": \"U.S. Virgin Islands\",\n",
        "    \".vn\": \"Vietnam\",\n",
        "    \".vu\": \"Vanuatu\",\n",
        "    \".wf\": \"Wallis and Futuna\",\n",
        "    \".ws\": \"Samoa\",\n",
        "    \".ye\": \"Yemen\",\n",
        "    \".yt\": \"Mayotte\",\n",
        "    \".za\": \"South Africa\",\n",
        "    \".zm\": \"Zambia\",\n",
        "    \".zw\": \"Zimbabwe\"\n",
        "    }\n",
        "\n",
        "    for ccTLD in ccTLD_to_region:\n",
        "        if primary_domain.endswith(ccTLD):\n",
        "            return ccTLD_to_region[ccTLD]\n",
        "\n",
        "    return \"Global\"\n",
        "def extract_root_domain(url):\n",
        "    extracted = tldextract.extract(url)\n",
        "    root_domain = extracted.domain\n",
        "    return root_domain\n",
        "def hash_encode(category):\n",
        "    hash_object = hashlib.md5(category.encode())\n",
        "    return int(hash_object.hexdigest(), 16) % (10 ** 8)"
      ],
      "metadata": {
        "trusted": true,
        "id": "GfhtVqnzoca5"
      },
      "outputs": [],
      "execution_count": null
    },
    {
      "cell_type": "code",
      "source": [
        "def model_predict(url):\n",
        "    class_mapping = {\n",
        "        0: 'benign',\n",
        "        1: 'defacement',\n",
        "        2: 'phishing',\n",
        "        3: 'malware'\n",
        "    }\n",
        "    numerical_values = get_numerical_values(url)\n",
        "    prediction_int = pipeline.predict(np.array(list(numerical_values.values())).reshape(1, -1))[0]\n",
        "    prediction_label = class_mapping.get(prediction_int, 'Unknown')\n",
        "    return prediction_int, prediction_label\n"
      ],
      "metadata": {
        "trusted": true,
        "id": "opIke9j8oca6"
      },
      "outputs": [],
      "execution_count": null
    },
    {
      "cell_type": "code",
      "source": [
        "url = \"https://www.example.com\"\n",
        "numerical_values = get_numerical_values(url)\n",
        "print(numerical_values)\n",
        "print(len(numerical_values))\n",
        "print(list(numerical_values.values()))\n",
        "print(model_predict(url)[0],model_predict(url)[1])"
      ],
      "metadata": {
        "trusted": true,
        "id": "Y61cpU0Eoca6"
      },
      "outputs": [],
      "execution_count": null
    }
  ]
}